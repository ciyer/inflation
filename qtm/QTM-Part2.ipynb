{
 "cells": [
  {
   "cell_type": "markdown",
   "id": "2dfb6ec9-7b73-47f1-a642-51c3e8703037",
   "metadata": {},
   "source": [
    "# The Quantity Theory of Money Insanity (Part 2)\n",
    "\n",
    "*QTM and hyperinflation*\n",
    "\n",
    "In Part 1, we looked at the Quantity Theory of Money and inflation in the long term. There, we concluded that the Equation of Exchange, along with knowledge about the behavior of changes in velocity and real GDP, are enough to explain inflation in the long term; QTM adds nothing.\n",
    "Now, we will look at rapid increases in inflation in short periods of time, hyperinflation, and how well QTM explains them."
   ]
  },
  {
   "cell_type": "markdown",
   "id": "6ded88e0-e33e-4607-b950-c87808e7cfbf",
   "metadata": {},
   "source": [
    "## The OECD Data Set\n",
    "\n",
    "OECD [publishes data](https://data.oecd.org) on money supply ([M1](https://data.oecd.org/money/narrow-money-m1.htm) and [M3](https://data.oecd.org/money/broad-money-m3.htm)) and price level ([CPI](https://data.oecd.org/price/inflation-cpi.htm)) for 28 currency areas (27 individual countries + the 19 Euro countries). The OECD data are unfortunately not a perfect  surrogate for the Barro data since there are some major differences: the OECD data are not as uniform and do not provide **M0** as the measure of money, which is what Barro uses.\n",
    "\n",
    "But despite those shortcomings, the OECD data offer a lot. They are easy to get, easy to work with, and contain money supply and price-level measurements on a monthly time resolution. Let us see if they can give us more detailed insight into  the relationship between inflation and the money supply."
   ]
  },
  {
   "cell_type": "code",
   "execution_count": null,
   "id": "a7bb46d8-0955-408b-baf9-cfe6be6f8333",
   "metadata": {},
   "outputs": [],
   "source": [
    "%load_ext autoreload\n",
    "%autoreload 2\n",
    "\n",
    "import numpy as np\n",
    "import pandas as pd\n",
    "import matplotlib as mpl\n",
    "import matplotlib.pyplot as plt\n",
    "import seaborn as sns\n",
    "import IPython\n",
    "\n",
    "import qtm\n",
    "\n",
    "qtm.set_style()\n",
    "\n",
    "barro_df = qtm.barro.read_barro_data(\"../data/barro/barro-data-set.csv\")"
   ]
  },
  {
   "cell_type": "code",
   "execution_count": null,
   "id": "abac4549-23fa-400c-8c47-0026dc34d9ed",
   "metadata": {},
   "outputs": [],
   "source": [
    "# If you want to use M3, replace \"M1\" with \"M3\" in the next line\n",
    "data = qtm.oecd.Data(\"../data/preprocess/\", \"M1\")\n",
    "data.read()\n",
    "\n",
    "data_m3 = qtm.oecd.Data(\"../data/preprocess/\", \"M3\")\n",
    "data_m3.read()"
   ]
  },
  {
   "cell_type": "markdown",
   "id": "470b2fd4-2b3f-46aa-b7b7-d88a4834dda4",
   "metadata": {},
   "source": [
    "## The Long-term View\n",
    "\n",
    "Plotting CPI vs M1[<sup>1</sup>](#fn1) over the entire span of data available for each country, it becomes evident that the fit, though not quite as ideal as in the Barro data set, is still very good, and the slope is quite close to 1. This serves as a sanity check and confirms that the OECD data can be a foundation for understanding QTM: despite the differences  to the Barro data, when viewed over the long term, the OECD data look reasonably similar. (Note: Barro uses continuous growth rates, we use annual here, though this seems to be a minor difference.)\n",
    "\n",
    "<span id=\"fn1\" style=\"font-size: smaller\"><sup>1</sup>[M1 was redefined in May 2020](https://www.federalreserve.gov/releases/h6/h6_technical_qa.htm) for the US, making the data harder to understand and interpret. For that reason the US 2020 datapoint is dropped from the plots using annual data, and May 2020 is dropped from plots based on monthly data.</span>"
   ]
  },
  {
   "cell_type": "code",
   "execution_count": null,
   "id": "4123d818-68c8-4cd8-8c83-51720a51216f",
   "metadata": {},
   "outputs": [],
   "source": [
    "countries_to_label = [\"BRA\", \"IDN\", \"ISL\", \"MEX\", \"TUR\", \"USA\"]\n",
    "\n",
    "fig, ax = plt.subplots(figsize=(6, 6))\n",
    "data.plot_summary(ax, countries_to_label)\n",
    "qtm.viz.cite_source(ax, \"OECD\")\n",
    "ax.set_title(\"M1 growth rate vs. Inflation rate\", fontsize=\"large\")\n",
    "plt.tight_layout()"
   ]
  },
  {
   "cell_type": "markdown",
   "id": "0524951a-e7fa-4d20-b939-122058362634",
   "metadata": {},
   "source": [
    "#### M1 or M3\n",
    "\n",
    "You often find plots of economic variables using other measures of the money supply (M2 is a favorite). Barro points out that the QTM arguments are most applicable to money as a medium of exchange and M0 or M1 are measures of money in that capacity, and **M2 and M3 are not appropriate measures for that purpose** (_Macroeconomics, A Modern Approach_, Ch 10, p.6 / p.437).\n",
    "\n",
    "Nonetheless, for comparison, here is a plot of CPI vs. M3. The fit here is also very good (n.b. the M1 and M3 series cover different time spans and the inflation rates for countries are therefore not always equal in the two plots), but the slope is a little further from 1.\n",
    "\n",
    "Following Barro, for the rest of the article, I use M1, but if you are curious or disagree with this choice, all of my code is available to run. If you wish, you can switch to M3 and rerun the analyses; you will find that the results are basically the same."
   ]
  },
  {
   "cell_type": "code",
   "execution_count": null,
   "id": "cd368e31-36f4-400f-9e0c-3d91130e44e0",
   "metadata": {},
   "outputs": [],
   "source": [
    "fig, ax = plt.subplots(figsize=(6, 6))\n",
    "data_m3.plot_summary(ax, countries_to_label)\n",
    "qtm.viz.cite_source(ax, \"OECD\")\n",
    "ax.set_title(\"M3 growth rate vs. Inflation rate\", fontsize=\"large\")\n",
    "plt.tight_layout()"
   ]
  },
  {
   "cell_type": "markdown",
   "id": "69aa7a06-e97d-41aa-a0b7-3cb5dc519355",
   "metadata": {},
   "source": [
    "### Country Codes\n",
    "\n",
    "To save space, I use the three-letter country codes as provided in the OECD data set. For reference, this table can be used to look up the country name."
   ]
  },
  {
   "cell_type": "code",
   "execution_count": null,
   "id": "788e32db-f025-4f4c-95f6-912f57fb9a37",
   "metadata": {},
   "outputs": [],
   "source": [
    "pd.DataFrame([{\"code\": code, \"country\": name} for code, name in qtm.oecd.country_code_map.items()])"
   ]
  },
  {
   "cell_type": "markdown",
   "id": "c7c1d1e6-323a-4ecd-b8c0-0fdbdb65f0c1",
   "metadata": {},
   "source": [
    "## Data Time Series\n",
    "\n",
    "For our 28 currencies, here are the time series of inflation (in green) and percentage change in M1 (yellow), both annual. The countries are broken down into **five (5) groups** according to the amount of **peak annual inflation** experienced, ranging from very high (a peak of over 50%), to never higher than 14%.\n",
    "\n",
    "The point of these plots is not to make comparisons between countries &mdash; the y-axes ranges are not uniform to accomodate a wide range of rates, making between-country comparison difficult. But to get a broad sense of of the relationship between inflation and money supply, they are helpful.\n",
    "\n",
    "In August 1971, [the US stopped supporting the convertibility of US dollar to gold](https://en.wikipedia.org/wiki/Bretton_Woods_system), leading many currencies to become free-floating. The period up to 1972 is shaded in light gray below, to distinguish between the gold era and the fiat era."
   ]
  },
  {
   "cell_type": "code",
   "execution_count": null,
   "id": "b2dad6b1-44da-4038-9190-351ee95858ff",
   "metadata": {},
   "outputs": [],
   "source": [
    "# Explain the colors\n",
    "\n",
    "ic_rgb = tuple([int(255 * c) for c in data.inflation_color])\n",
    "ic = f\"rgb{ic_rgb}\"\n",
    "mc_rgb = tuple([int(255 * c) for c in data.money_color])\n",
    "mc = f\"rgb{mc_rgb}\"\n",
    "IPython.display.HTML(f\"<div style='color: #FFF; background-color: {ic}; text-align: center'>Inflation</div> \\\n",
    "                       <div style='color: #FFF; background-color: {mc}; text-align: center'>Monetary base</div>\")"
   ]
  },
  {
   "cell_type": "code",
   "execution_count": null,
   "id": "f7f19ba6-d686-43b6-847d-1205c4aa3a91",
   "metadata": {},
   "outputs": [],
   "source": [
    "data.annual_ts_fig(subset=data.quantile_subset(4), sharey=False, show_title=True)"
   ]
  },
  {
   "cell_type": "code",
   "execution_count": null,
   "id": "b9f9b4ef-64f0-4cb6-bfc2-5f91be20b405",
   "metadata": {},
   "outputs": [],
   "source": [
    "data.annual_ts_fig(subset=data.quantile_subset(3), sharey=True, show_title=True)"
   ]
  },
  {
   "cell_type": "code",
   "execution_count": null,
   "id": "914f49d8-55ff-405a-9f05-83335ac0b321",
   "metadata": {},
   "outputs": [],
   "source": [
    "data.annual_ts_fig(subset=data.quantile_subset(2), sharey=True, show_title=True)"
   ]
  },
  {
   "cell_type": "code",
   "execution_count": null,
   "id": "82111bd2-f220-47a9-89cf-60c7787c0682",
   "metadata": {},
   "outputs": [],
   "source": [
    "data.annual_ts_fig(subset=data.quantile_subset(1), sharey=True, show_title=True)"
   ]
  },
  {
   "cell_type": "markdown",
   "id": "62fdd68f-e5b6-454c-b3b5-5dd4ea206535",
   "metadata": {},
   "source": [
    "We will use these data to take a closer look at a few times and places and observe what they tell us about how QTM works."
   ]
  },
  {
   "cell_type": "markdown",
   "id": "4eb87fb6-0b5c-4686-8cde-43da11b44a9d",
   "metadata": {},
   "source": [
    "## Under the magnifying glass\n",
    "\n",
    "Expositions of QTM often draw upon examples of countries experiencing hyperinflation. A perennial favorite is, of course, Weimar Germany. The [MRU course discussing the causes of inflation](https://mru.org/courses/principles-economics-macroeconomics/causes-of-inflation) uses Peru in the late 1980s for its example.\n",
    "\n",
    "![MRU-Inflation](images/MRU-Inflation.png)\n",
    "https://mru.org/courses/principles-economics-macroeconomics/causes-of-inflation time 4:35 \n",
    "\n",
    "In the MRU video, the graph is used to demonstrate that high inflation is accompanied by rapid growth in the money supply, which is indeed visible. But under QTM, **we would expect the money supply growth to occur before hyperinflation**, and this is **not** what is happening. In Peru, inflation started increasing in 1988, *before* the major money supply growth began in 1989.\n",
    "\n",
    "There are several instances of rapid inflation we can identify in the OECD data from the plots in the previous section:\n",
    "\n",
    "* Indonesia, 1998\n",
    "* Mexico, 1982 and 1987\n",
    "* Turkey, 1980\n",
    "* Russia, 1998"
   ]
  },
  {
   "cell_type": "code",
   "execution_count": null,
   "id": "9eb0abae-5a9b-4487-a9ed-4593b723b695",
   "metadata": {},
   "outputs": [],
   "source": [
    "data.annual_ts_fig(subset=['IDN', 'MEX', 'TUR', 'RUS'], sharey=False, citex=0.985)\n",
    "plt.gcf().suptitle(\"Year over Year Changes in CPI and M1\")\n",
    "plt.tight_layout()"
   ]
  },
  {
   "cell_type": "markdown",
   "id": "8aadc7fe-a637-4e63-96fe-5836b3291f14",
   "metadata": {},
   "source": [
    "What better characterizes the behavior in these instances of rapid increase in the price level: money-supply growth, followed by high inflation, as predicted by QTM; or high inflation, followed by money-supply growth, as visible in the MRU video?"
   ]
  },
  {
   "cell_type": "markdown",
   "id": "d1fea2df-fa71-4848-90c1-0f04769045f7",
   "metadata": {},
   "source": [
    "### Indonesia, 1998\n",
    "\n",
    "In 1997, a [financial crisis occurred in Asia](https://en.wikipedia.org/wiki/1997_Asian_financial_crisis), and Indonesia was at the epicenter, and one of the effects is that the country experienced a large jump in inflation in 1998."
   ]
  },
  {
   "cell_type": "code",
   "execution_count": null,
   "id": "d6a6dbc1-0f39-4318-acb6-68ea80c04a38",
   "metadata": {},
   "outputs": [],
   "source": [
    "fig, ax = plt.subplots()\n",
    "tdf = data.annual_df.loc[\"IDN\"]\n",
    "qtm.oecd.ts_a_plot(ax, tdf, slice(\"1995\",\"2001\"), None, None, 3, data.inflation_color, data.money_color)\n",
    "ax.set_title(\"IDN Annual Inflation | 1995 – 2001\")\n",
    "ax.legend()\n",
    "qtm.viz.cite_source(ax, \"OECD\")"
   ]
  },
  {
   "cell_type": "markdown",
   "id": "489123c8-a8ea-4462-a696-fa4d37f318ca",
   "metadata": {},
   "source": [
    "Before and after the financial crisis, both growth in the price level and money supply were basically stable, so it is not possible to identify a change in the money supply as causing the jump in inflation from this time resolution. But we also have monthly data at our disposal, and we can investigate the picture they tell."
   ]
  },
  {
   "cell_type": "code",
   "execution_count": null,
   "id": "a37a80b5-de4c-43db-ac1c-10660984774d",
   "metadata": {},
   "outputs": [],
   "source": [
    "fig, ax = plt.subplots(figsize=(8, 4.5))\n",
    "palette = sns.color_palette()\n",
    "tdf = data.monthly_df.loc[\"IDN\"]\n",
    "qtm.oecd.ts_a_plot(ax, tdf, slice(\"1997\",\"1998\"), None, None, 3, data.inflation_color, data.money_color)\n",
    "qtm.viz.annot_line(ax, \"1997-09\", \"Sep 1997\\nM1 starts\\nincreasing\", (\"1997-07-15\", 100), data.money_color)\n",
    "qtm.viz.annot_line(ax, \"1997-12\", \"Dec 1997\\nInflation starts increasing\", (\"1997-10-15\", -33), data.inflation_color)\n",
    "ax.set_title(\"IDN Monthly Inflation | 1997 – 1998\")\n",
    "ax.legend()\n",
    "qtm.viz.cite_source(ax, \"OECD\")"
   ]
  },
  {
   "cell_type": "markdown",
   "id": "d55696d9-36ae-473b-86d5-ab913b550997",
   "metadata": {},
   "source": [
    "At this resolution, we see that changes in the money supply presage increases in the price level, which is consistent with QTM.\n",
    "\n",
    "Why did Indonesia suddenly increase the amount of Rupiah in circulation? Before 1997 inflation and growth in the money supply  were stable; to understand what precipitated a change, further context about the financial crisis is necessary. According to the [Wikipedia article](https://en.wikipedia.org/wiki/1997_Asian_financial_crisis), the Baht of nearby Thailand dropped its peg to the US Dollar and moved to a floating exchange rate in July 1997. This caused pressure on the Indonesian central bank, which was forced to drop a managed floating exchange rate in favor of a free-floating exchange rate."
   ]
  },
  {
   "cell_type": "code",
   "execution_count": null,
   "id": "9963e616-78e1-4f01-9649-2b20ec72a332",
   "metadata": {},
   "outputs": [],
   "source": [
    "fig, ax = plt.subplots(figsize=(8, 4.5))\n",
    "palette = sns.color_palette()\n",
    "tdf = data.monthly_df.loc[\"IDN\"]\n",
    "qtm.oecd.ts_a_plot(ax, tdf, slice(\"1997\",\"1998\"), None, None, 3, data.inflation_color, data.money_color)\n",
    "qtm.viz.annot_line(ax, \"1997-07\", \"Jul 1997\\nThai Baht\\nfloats\", (\"1997-05\", 60), data.annot_color)\n",
    "qtm.viz.annot_line(ax, \"1997-09\", \"Sep 1997\\nRupiah\\nfloats\", (\"1997-08-10\", 60), data.annot_color)\n",
    "qtm.viz.annot_line(ax, \"1998-01\", \"Jan 1998\\nIMF package\\nagreement\", (\"1998-01-15\", 380), data.annot_color)\n",
    "ax.set_title(\"IDN Monthly Inflation | 1997 – 1998\")\n",
    "ax.legend()\n",
    "qtm.viz.cite_source(ax, \"OECD\")"
   ]
  },
  {
   "cell_type": "markdown",
   "id": "90fbd00e-1920-408f-89d4-ddce24cea82c",
   "metadata": {},
   "source": [
    "When we consider how the financial crisis unfolded, it is not as clear if the changes in money supply *caused* the changes in price level, or if **both** were driven by the currency crisis, just with different delays."
   ]
  },
  {
   "cell_type": "markdown",
   "id": "7942701b-67cd-4895-8a5f-cd1ce82cbe0b",
   "metadata": {},
   "source": [
    "### Mexico, 1982 and 1987\n",
    "\n",
    "Mexico in the 1980s experienced [*La Década Perdida*](https://en.wikipedia.org/wiki/Economic_history_of_Mexico#1982_crisis_and_recovery) with particularly high inflation in 1983 and 1987.\n",
    "\n",
    "In the first phase, in 1983, the increase in the price level occurred **without** associated changes in the money supply; in the second period starting in 1985, the inflation rate initially *increased* and the M1 change rate dramatically *decreased*. Both increased between 1986 and 1987 before inflation started to come down, and then rate of change of the money supply followed."
   ]
  },
  {
   "cell_type": "code",
   "execution_count": null,
   "id": "5c799b82-ab97-4050-9298-1320c1bd0248",
   "metadata": {},
   "outputs": [],
   "source": [
    "fig, ax = plt.subplots()\n",
    "tdf = data.annual_df.loc[\"MEX\"]\n",
    "qtm.oecd.ts_a_plot(ax, tdf, slice(\"1980\",\"1990\"), None, None, 3, data.inflation_color, data.money_color)\n",
    "ax.set_title(\"MEX Annual Inflation | 1980 – 1990\")\n",
    "ax.legend()\n",
    "qtm.viz.cite_source(ax, \"OECD\")"
   ]
  },
  {
   "cell_type": "markdown",
   "id": "f53a0884-490b-4801-a64a-2bcd51af08be",
   "metadata": {},
   "source": [
    "Going to a higher resolution and looking at the monthly data clarifies the picture. In early 1982, inflation starts increasing before M1. In the beginning of 1983, inflation goes up rapidly, while M1 is decreasing."
   ]
  },
  {
   "cell_type": "code",
   "execution_count": null,
   "id": "fe9df251-f2a8-43d7-bb4c-632783262702",
   "metadata": {},
   "outputs": [],
   "source": [
    "fig, ax = plt.subplots(figsize=(8, 4.5))\n",
    "tdf = data.monthly_df.loc[\"MEX\"]\n",
    "qtm.oecd.ts_a_plot(ax, tdf, slice(\"1981\",\"1984\"), None, None, 3, data.inflation_color, data.money_color)\n",
    "# qtm.viz.annot_line(ax, \"1981-02\", \"Inflation\\N{Rightwards Arrow}\\nM1\\N{Upwards Arrow}\", (\"1981-02\", 150), data.money_color)\n",
    "qtm.viz.annot_line(ax, \"1981-02\", \"Inflation\\N{Rightwards Arrow}\\nM1\\N{Upwards Arrow}\", (\"1981-02\", 150), data.money_color)\n",
    "qtm.viz.annot_line(ax, \"1981-12\", \"Inflation\\N{Upwards Arrow}\", (\"1981-10-15\", 150), data.inflation_color)\n",
    "qtm.viz.annot_line(ax, \"1982-01\", \"M1\\N{Upwards Arrow}\", (\"1982-01\", -5), data.money_color)\n",
    "qtm.viz.annot_line(ax, \"1982-11\", \"Inflation\\N{Upwards Arrow}\\nM1\\N{Downwards Arrow}\", (\"1982-12\", 150), data.inflation_color)\n",
    "ax.set_title(\"MEX Monthly Inflation | 1981 – 1984\")\n",
    "ax.legend()\n",
    "qtm.viz.cite_source(ax, \"OECD\")"
   ]
  },
  {
   "cell_type": "markdown",
   "id": "7eb7f77b-7274-42ac-9c38-4e6339e5f4b3",
   "metadata": {},
   "source": [
    "The situation is stable, though at a high inflation rate throughout 1986 and into 1987. In late 1987, there is a large jump in inflation although M1 remains stable. In 1988, inflation starts to come down without any obvious change in the trajectory of M1."
   ]
  },
  {
   "cell_type": "code",
   "execution_count": null,
   "id": "c4fb67b6-218d-4659-a5f5-82a9ab73d47a",
   "metadata": {},
   "outputs": [],
   "source": [
    "fig, ax = plt.subplots(figsize=(8, 4.5))\n",
    "tdf = data.monthly_df.loc[\"MEX\"]\n",
    "qtm.oecd.ts_a_plot(ax, tdf, slice(\"1986\",\"1988\"), None, None, 3, data.inflation_color, data.money_color)\n",
    "qtm.viz.annot_line(ax, \"1987-11\", \"Inflation\\N{Upwards Arrow}\\nM1\\N{Rightwards Arrow}\", (\"1987-11\", 0), data.inflation_color)\n",
    "ax.set_title(\"MEX Monthly Inflation | 1986 – 1988\")\n",
    "ax.legend()\n",
    "qtm.viz.cite_source(ax, \"OECD\")"
   ]
  },
  {
   "cell_type": "markdown",
   "id": "3ed6df56-5645-4b04-a478-4568046dd3bc",
   "metadata": {},
   "source": [
    "# Turkey"
   ]
  },
  {
   "cell_type": "markdown",
   "id": "e9185a31-4de9-4547-9b19-bf8001cc2f1c",
   "metadata": {},
   "source": [
    "In Turkey, we have an example of inflation occurring in the backdrop of a [coup d'état](https://en.wikipedia.org/wiki/1980_Turkish_coup_d%27état). Here again, increases in the price level occur *first* and the money supply increases in response."
   ]
  },
  {
   "cell_type": "code",
   "execution_count": null,
   "id": "765c46fe-992f-4777-a7dc-3614d148b786",
   "metadata": {},
   "outputs": [],
   "source": [
    "fig, ax = plt.subplots()\n",
    "tdf = data.annual_df.loc[\"TUR\"]\n",
    "qtm.oecd.ts_a_plot(ax, tdf, slice(\"1975\",\"1985\"), None, None, 3, data.inflation_color, data.money_color)\n",
    "ax.set_title(\"TUR Annual Inflation | 1975 – 1985\")\n",
    "ax.legend()\n",
    "qtm.viz.cite_source(ax, \"OECD\")"
   ]
  },
  {
   "cell_type": "code",
   "execution_count": null,
   "id": "18bfd74a-7cd0-465c-987c-53d9f16be47e",
   "metadata": {},
   "outputs": [],
   "source": [
    "fig, ax = plt.subplots(figsize=(8, 4.5))\n",
    "tdf = data.monthly_df.loc[\"TUR\"]\n",
    "qtm.oecd.ts_a_plot(ax, tdf, slice(\"1977\",\"1981\"), None, None, 3, data.inflation_color, data.money_color)\n",
    "ax.set_title(\"TUR Monthly Inflation | 1977 – 1981\")\n",
    "ax.legend()\n",
    "qtm.viz.cite_source(ax, \"OECD\")"
   ]
  },
  {
   "cell_type": "markdown",
   "id": "5e38550d-b6e6-4052-9c34-68a9d24fff1f",
   "metadata": {},
   "source": [
    "### Russia"
   ]
  },
  {
   "cell_type": "markdown",
   "id": "01b25d87-63d3-4dc6-a0b0-990fab5e7158",
   "metadata": {},
   "source": [
    "And then, there is the case of inflation in Russia in 1998, a side effect of a [monetary reform](https://en.wikipedia.org/wiki/Monetary_reform_in_Russia,_1998). The data show high inflation occurring without a major increase in the money supply. "
   ]
  },
  {
   "cell_type": "code",
   "execution_count": null,
   "id": "80d29486-f22f-4753-b28e-134b6f68ff44",
   "metadata": {},
   "outputs": [],
   "source": [
    "fig, ax = plt.subplots()\n",
    "tdf = data.annual_df.loc[\"RUS\"]\n",
    "qtm.oecd.ts_a_plot(ax, tdf, slice(\"1997\",\"2002\"), None, None, 3, data.inflation_color, data.money_color)\n",
    "ax.set_title(\"RUS Annual Inflation | 1997 – 2002\")\n",
    "ax.legend()\n",
    "qtm.viz.cite_source(ax, \"OECD\")"
   ]
  },
  {
   "cell_type": "code",
   "execution_count": null,
   "id": "167dae25-50bb-4fdc-8b9d-b82c9e3d21e5",
   "metadata": {},
   "outputs": [],
   "source": [
    "fig, ax = plt.subplots(figsize=(8, 4.5))\n",
    "tdf = data.monthly_df.loc[\"RUS\"]\n",
    "qtm.oecd.ts_a_plot(ax, tdf, slice(\"1998\",\"2000\"), None, None, 3, data.inflation_color, data.money_color)\n",
    "ax.set_title(\"RUS Monthly Inflation | 1998 – 2000\")\n",
    "ax.legend()\n",
    "qtm.viz.cite_source(ax, \"OECD\")"
   ]
  },
  {
   "cell_type": "markdown",
   "id": "9202f665-724e-4b06-8926-34d80cb568d3",
   "metadata": {},
   "source": [
    "## Part 3 Preview\n",
    "\n",
    "After looking at six cases of hyperinflation (Peru 1989, Indonesia 1998, Mexico 1982 and 1987, Turkey 1980, and Russia 1998), only in one of those cases is the data consistent with QTM. **QTM is not a robust explanation of hyperinflation**. But maybe it is still a useful tool for thinking about inflation in general.\n",
    "\n",
    "Scott Sumner [explains QTM](https://www.themoneyillusion.com/money-and-inflation-pt-3-the-quantity-theory-of-money-and-the-great-inflation/) as follows:\n",
    "\n",
    "> One time changes in the supply of money cause a proportionate rise in the price level in the long run, as compared to where the price level would have been had the money supply not changed.\n",
    "\n",
    "This is a weaker statement than \"inflation is always and everywhere a monetary phenomenon,\" but, if accurate, it would still be helpful for understanding inflation. And this is the question we will look at in Part 2."
   ]
  }
 ],
 "metadata": {
  "kernelspec": {
   "display_name": "Python 3 (ipykernel)",
   "language": "python",
   "name": "python3"
  },
  "language_info": {
   "codemirror_mode": {
    "name": "ipython",
    "version": 3
   },
   "file_extension": ".py",
   "mimetype": "text/x-python",
   "name": "python",
   "nbconvert_exporter": "python",
   "pygments_lexer": "ipython3",
   "version": "3.9.6"
  }
 },
 "nbformat": 4,
 "nbformat_minor": 5
}
