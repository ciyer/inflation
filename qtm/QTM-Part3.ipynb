{
 "cells": [
  {
   "cell_type": "markdown",
   "id": "944b4b28-8109-496e-a37d-12025b7e3c92",
   "metadata": {},
   "source": [
    "# The Quantity Theory of Money Insanity (Part 3)\n",
    "\n",
    "*QTM as a predictor of inflation*\n",
    "\n",
    "In the previous section, we looked at QTM as an explanation of hyperinflation. In the six cases of hyperinflation we examined in detail, only one of those cases was consistent with QTM.\n",
    "\n",
    "In this section, we will look at a weaker form of QTM to see how well it explains inflation in the medium term."
   ]
  },
  {
   "cell_type": "code",
   "execution_count": null,
   "id": "11d10773-ec82-4e8f-94b3-96aaaebab9aa",
   "metadata": {},
   "outputs": [],
   "source": [
    "%load_ext autoreload\n",
    "%autoreload 2\n",
    "\n",
    "import numpy as np\n",
    "import pandas as pd\n",
    "import matplotlib as mpl\n",
    "import matplotlib.pyplot as plt\n",
    "import seaborn as sns\n",
    "import IPython\n",
    "\n",
    "import qtm\n",
    "\n",
    "qtm.set_style()"
   ]
  },
  {
   "cell_type": "code",
   "execution_count": null,
   "id": "516fc7a7-16b8-4758-aebb-810288837f80",
   "metadata": {},
   "outputs": [],
   "source": [
    "# If you want to use M3, replace \"M1\" with \"M3\" in the next line\n",
    "data = qtm.oecd.Data(\"../data/preprocess/\", \"M1\")\n",
    "data.read()\n",
    "\n",
    "data_m3 = qtm.oecd.Data(\"../data/preprocess/\", \"M3\")\n",
    "data_m3.read()"
   ]
  },
  {
   "cell_type": "markdown",
   "id": "6847870e-dd12-43c3-a790-457a777e2413",
   "metadata": {},
   "source": [
    "## More Money, More Problems?\n",
    "\n",
    "*With apologies to the late, great Notorious B.I.G.*\n",
    "\n",
    "Scott Sumner [explains QTM](https://www.themoneyillusion.com/money-and-inflation-pt-3-the-quantity-theory-of-money-and-the-great-inflation/) as follows:\n",
    "\n",
    "> One time changes in the supply of money cause a proportionate rise in the price level in the long run, as compared to where the price level would have been had the money supply not changed.\n",
    "\n",
    "This is a weaker statement than \"inflation is always and everywhere a monetary phenomenon,\" but, if accurate, it would still be helpful for understanding inflation. We will now proceed to taking a look at that question."
   ]
  },
  {
   "cell_type": "markdown",
   "id": "79c5a94d-8c8b-49de-8792-7123b5f869ef",
   "metadata": {},
   "source": [
    "### Harmonizing time series\n",
    "\n",
    "Recognizing if this statement is reflected in the data is difficult with the time-series plots above, but we can make a visualization where this phenomenon should stand out if true.\n",
    "\n",
    "Instead of looking at year-over-year changes in percentage terms, we will look at them in terms of ranks. This will make it easier to compare data across countries and investigate general relationships between changes in the supply of money and the price level. \n",
    "\n",
    "We first group changes in the money supply and inflation each into quantiles of equal size. We will use 20 quantiles as a compromise between granularity and readability. This gives us a time series of ranks of changes in money supply (`c_m1`) and changes in CPI (`c_cpi`), an excerpt from which is shown below. In this excerpt, covering five years of data from Indonesia, the magnitude of the change in M1 between 1991 and 1992 is in the 5th of 20 quantiles, the change in CPI for the same period was in the 12th of 20 quantiles."
   ]
  },
  {
   "cell_type": "code",
   "execution_count": null,
   "id": "642b7e5f-05cb-4dc0-a0ab-9215fd37fc2c",
   "metadata": {},
   "outputs": [],
   "source": [
    "qdf = qtm.oecd.to_quantile_df(data.annual_df, data.money_col(), \"c_cpi\", 20)\n",
    "qdf.loc[[\"IDN\", \"JPN\"],:].head()"
   ]
  },
  {
   "cell_type": "markdown",
   "id": "3d61ef10-9929-49a0-aa34-b2669c5212eb",
   "metadata": {},
   "source": [
    "When this is plotted, the movements of the changes in M1 and CPI are easier to follow."
   ]
  },
  {
   "cell_type": "code",
   "execution_count": null,
   "id": "b79462b2-dd9a-4300-bd91-c1b8f16cac1e",
   "metadata": {},
   "outputs": [],
   "source": [
    "with mpl.rc_context({'axes.labelsize': 'small', 'axes.titlesize': 'small'}):\n",
    "    data.annual_ts_fig(sharey=True, df=qdf, ylabel=\"Change Rank\", citex=0.98, citey=0.01)\n",
    "    fig = plt.gcf()\n",
    "    fig.suptitle(\"Inflation & M1 Rank Time Series\")\n",
    "    plt.tight_layout()"
   ]
  },
  {
   "cell_type": "markdown",
   "id": "dcb6331d-e729-47d6-aae7-e43ec6ee5f8a",
   "metadata": {},
   "source": [
    "### Change ranks (5 years forward)\n",
    "\n",
    "Since it is acknowledged that changes in money supply need some time to affect inflation, we will use the table above to construct a five forward year series of inflation ranks for each year, categorized by changes in the money supply."
   ]
  },
  {
   "cell_type": "code",
   "execution_count": null,
   "id": "3bc2a4b1-387f-4326-8b3e-449fb9838811",
   "metadata": {},
   "outputs": [],
   "source": [
    "qtm.oecd.quantile_ts_plot_df(qdf, \"c_m1\", \"c_cpi\", 6).loc[[\"IDN\", \"JPN\"],:].head()"
   ]
  },
  {
   "cell_type": "markdown",
   "id": "ed5da02e-d933-43e1-b08b-5484f5bab9d0",
   "metadata": {},
   "source": [
    "This give us a plot of the trajectory of how inflation ranks evolve over 6 years (the initial year, and 5 subsequent years). If M1 growth is in the top 20% in the first year, we draw the line in red; otherwise, the line is drawn in gray."
   ]
  },
  {
   "cell_type": "code",
   "execution_count": null,
   "id": "5398fb0e-cb2b-459c-88be-0b2a413e343b",
   "metadata": {},
   "outputs": [],
   "source": [
    "# one country\n",
    "palette = sns.color_palette()\n",
    "ap80 = dict(arrowstyle=\"-|>\", facecolor=palette[4], alpha=1, edgecolor=palette[4])\n",
    "ap20 = dict(arrowstyle=\"-|>\", facecolor=palette[1], alpha=1, edgecolor=palette[1])\n",
    "fig, ax = plt.subplots()\n",
    "tdf = qtm.oecd.quantile_ts_plot_df(qdf, \"c_m1\", \"c_cpi\", 6).loc[[\"IDN\", \"JPN\"],:]\n",
    "tdf = tdf.loc[(slice(None), slice(\"1992\", \"1995\")), :]\n",
    "qtm.oecd.quantile_ts_plot(ax, tdf.loc[\"IDN\"], palette[4], palette[1], \n",
    "                          15, 0.4, 0.6, None, None, 20, palette[4], 0.3)\n",
    "ax.annotate(\"Inflation rank trajectory\\nInitial year in bottom 80% M1 growth\", \n",
    "            (0.1, 12), (0.1, 5.0), arrowprops=ap80, fontsize=\"xx-small\")\n",
    "ax.annotate(\"Inflation rank trajectory\\nInitial year in top 20% M1 growth\", \n",
    "            (0.1, 14.1), (0.1, 17.5), arrowprops=ap20, fontsize=\"xx-small\")\n",
    "ax.annotate(\"Top 20% range\\nin gray\", (4, 16.5), fontsize=\"xx-small\")\n",
    "ax.set_yticks([1, 5, 10, 15, 20])\n",
    "ax.set_title(\"Rank Plot\");"
   ]
  },
  {
   "cell_type": "markdown",
   "id": "2056452a-16df-4749-8bbe-63a4d9c25429",
   "metadata": {},
   "source": [
    "Applying this idea to all our data gives us this."
   ]
  },
  {
   "cell_type": "code",
   "execution_count": null,
   "id": "e02d801c-26db-4e6a-a49a-a20068c15c60",
   "metadata": {},
   "outputs": [],
   "source": [
    "with mpl.rc_context({'axes.labelsize': 'small', 'axes.titlesize': 'small'}):\n",
    "    data.quantile_ts_fig(0.2, 20, 6)\n",
    "    fig = plt.gcf()\n",
    "    fig.suptitle(\"5Y Inflation Rank Trajectory | Highlight M1\")\n",
    "    plt.tight_layout()"
   ]
  },
  {
   "cell_type": "markdown",
   "id": "1c078a0c-4e81-4004-876e-06b3539ff7a4",
   "metadata": {},
   "source": [
    "### Change Ranks in Detail\n",
    "\n",
    "There is a lot to digest here. What we can say is, there are some countries for which Sumner's description of QTM seems to apply quite well, like Japan, and there are others for which it does not apply very well at all, like Switzerland."
   ]
  },
  {
   "cell_type": "code",
   "execution_count": null,
   "id": "3649eead-89e0-4fd7-8458-9ff70ae75c66",
   "metadata": {},
   "outputs": [],
   "source": [
    "tdf = qtm.oecd.quantile_ts_plot_df(qdf, \"c_m1\", \"c_cpi\", 6).loc[[\"CHE\", \"JPN\"],:]"
   ]
  },
  {
   "cell_type": "markdown",
   "id": "ff311a49-c0d0-430f-8fd9-ed81848c51ea",
   "metadata": {},
   "source": [
    "### Japan"
   ]
  },
  {
   "cell_type": "code",
   "execution_count": null,
   "id": "b5df0a85-6809-465d-a4f4-2ef7a9acc653",
   "metadata": {},
   "outputs": [],
   "source": [
    "palette = sns.color_palette()\n",
    "fig, axs = plt.subplots(2, 1, figsize=(10, 6))\n",
    "\n",
    "ax = axs[0]\n",
    "plt.sca(ax)\n",
    "qtm.oecd.ts_a_plot(ax, qdf.loc[\"JPN\"], slice(None), None, None, 3, data.inflation_color, data.money_color)\n",
    "ax.axvspan(\"1959\", \"1972\", color=palette[4], alpha=0.3)\n",
    "qtm.viz.annot_line(ax, \"2002\", \"High M1 growth,\\nlow inflation\", (\"2001\", 12), data.money_color)\n",
    "ax.set_title(\"JPN | Rank Time Series\")\n",
    "ax.legend()\n",
    "\n",
    "ax = axs[1]\n",
    "plt.sca(ax)\n",
    "qtm.oecd.quantile_ts_plot(ax, tdf.loc[\"JPN\"], palette[4], palette[1], \n",
    "                          15, 0.2, 0.5, None, None, 20, palette[4], 0.3)\n",
    "ax.set_yticks([1, 5, 10, 15, 20])\n",
    "ax.set_title(\"JPN | 5Y Inflation Rank Trajectory\")\n",
    "ax.set_ylabel(\"Change Rank\")\n",
    "None"
   ]
  },
  {
   "cell_type": "markdown",
   "id": "2efdd50d-7903-4238-b4a0-7944973c5d97",
   "metadata": {},
   "source": [
    "For Japan, high M1 growth has historically been a good predictor of high forward inflation. But on closer inspection, we see that most of the high M1 growth years were in the period 1959 &ndash; 1972, the Bretton-Woods era. More recent instances of high M1 growth, like 2002, were **not** followed by high inflation."
   ]
  },
  {
   "cell_type": "markdown",
   "id": "c389adf5-718a-4751-83d7-b8a5d60f9500",
   "metadata": {},
   "source": [
    "### Switzerland\n",
    "\n",
    "And Switzerland presents a case where high M1 growth has not even historically been a good indicator of high forward inflation."
   ]
  },
  {
   "cell_type": "code",
   "execution_count": null,
   "id": "014bc1dc-9beb-48d8-a76e-d74ec77b5e8d",
   "metadata": {
    "tags": []
   },
   "outputs": [],
   "source": [
    "palette = sns.color_palette()\n",
    "fig, axs = plt.subplots(2, 1, figsize=(10, 6))\n",
    "\n",
    "ax = axs[0]\n",
    "plt.sca(ax)\n",
    "qtm.oecd.ts_a_plot(ax, qdf.loc[\"CHE\"], slice(None), None, None, 3, data.inflation_color, data.money_color)\n",
    "ax.set_title(\"CHE | Rank Time Series\")\n",
    "ax.legend()\n",
    "\n",
    "ax = axs[1]\n",
    "plt.sca(ax)\n",
    "qtm.oecd.quantile_ts_plot(ax, tdf.loc[\"CHE\"], palette[4], palette[1], \n",
    "                          15, 0.2, 0.5, None, None, 20, palette[4], 0.3)\n",
    "ax.set_yticks([1, 5, 10, 15, 20])\n",
    "ax.set_title(\"CHE | 5Y Inflation Rank Trajectory\")\n",
    "ax.set_ylabel(\"Change Rank\")\n",
    "None"
   ]
  },
  {
   "cell_type": "markdown",
   "id": "708aed68-d217-43ba-a318-8712ae316168",
   "metadata": {},
   "source": [
    "## Change Ranks of Inflation vs. Inflation\n",
    "\n",
    "Let us make the same type of plot as in the previous section, but instead of using the rank of change in M1, we will use the rank of change in inflation to see how well that predicts future inflation."
   ]
  },
  {
   "cell_type": "code",
   "execution_count": null,
   "id": "6bc2c774-3222-4ae5-9a94-e33af60c257d",
   "metadata": {},
   "outputs": [],
   "source": [
    "pp_df = qtm.oecd.quantile_ts_plot_df(qdf, \"c_cpi\", \"c_cpi\", 6)\n",
    "with mpl.rc_context({'axes.labelsize': 'small', 'axes.titlesize': 'small'}):\n",
    "    data.quantile_ts_fig(0.2, 20, 6, pp_df=pp_df)\n",
    "    fig = plt.gcf()\n",
    "    fig.suptitle(\"5Y Inflation Trajectory | Highlight Inflation\")\n",
    "    plt.tight_layout()"
   ]
  },
  {
   "cell_type": "markdown",
   "id": "74616428-fcf3-4af7-a94e-cfbeafdfce33",
   "metadata": {},
   "source": [
    "For 20 of 28 currencies, if inflation is high in year 1, it has been high for 50% or more of the subsequent 5 years. Current inflation does a better job of predicting the level of future inflation than the change in the money supply does."
   ]
  },
  {
   "cell_type": "markdown",
   "id": "3e9a746d-f399-4d6b-ba5a-dd0cce7553e6",
   "metadata": {},
   "source": [
    "We can see focus on this by restricting our view to just those years where inflation is initially in the bottom 80%. If we plot inflation trajectories for these years (top 20% M1 growth in red), it becomes clear that the association between money-supply growth and future inflation is much stronger when inflation is already high. **If inflation is not already high, rapid M1 growth rarely leads to high inflation** in the following five years."
   ]
  },
  {
   "cell_type": "code",
   "execution_count": null,
   "id": "b6e157c3-6450-4385-b1d8-bfb20c760180",
   "metadata": {},
   "outputs": [],
   "source": [
    "tdf = qtm.oecd.quantile_ts_plot_df(qdf, \"c_m1\", \"c_cpi\", 6)\n",
    "low_inf_pp_df = tdf[tdf['Year_0'] < 15]\n",
    "with mpl.rc_context({'axes.labelsize': 'small', 'axes.titlesize': 'small'}):\n",
    "    data.quantile_ts_fig(0.2, 20, 6, pp_df=low_inf_pp_df)\n",
    "    fig = plt.gcf()\n",
    "    fig.suptitle(\"5Y Inflation Trajectory | Low Initial Inflation | Highlight M1\")\n",
    "    plt.tight_layout()"
   ]
  },
  {
   "cell_type": "markdown",
   "id": "08349b05-eb1b-48a9-9ef6-6917a2347a17",
   "metadata": {},
   "source": [
    "# Conclusions"
   ]
  },
  {
   "cell_type": "markdown",
   "id": "3bb0f1b4-a9f9-4024-a6f0-b922ed17538d",
   "metadata": {},
   "source": [
    "In his 1970 Wincott Lecture, Milton Friedman said that “inflation is always and everywhere a monetary phenomenon in the sense that it is and can be produced only by a more rapid increase in the quantity.” Maybe this was true given the data he had at his disposal at that time. With the data available now, I think the 2021 version of that statement would be, **“Inflation might in some places and at certain times be a monetary phenomenon. :shrug-emoji:”**\n",
    "\n",
    "There are theoretical reasons why QTM is plausible, but after looking at OECD data for almost 30 countries over a wide range of years, QTM, at least as it is explained to non-economists, is not borne out in the data. The Equation of Exchange, not QTM, explains the Barro data set; hyperinflation is sometimes, but by no means always, preceded by rapid growth of the money supply; and current inflation predicts the trajectory of inflation over the next 5 years better than the growth in the money supply does. In the real world, high inflation can occur before, after, or independently of increases in the money supply.\n",
    "\n",
    "As important as the question of what causes inflation is the question of what to do about it. Take the case of Indonesia 1998 again. A regional neighbor devalues their currency, applying pressure on Indonesia to devalue and inflate. Indonesia reacted by giving in, devaluing and increasing the supply of the Rupiah. Would they have experienced better socio-economic outcomes had they not taken these steps? I would be interested to hear answers by monetarists and others.\n",
    "\n",
    "These questions are not just academic and not just of interest to economists. Every day, new cryptocurrencies are being designed with the intention of replacing cash, and some of these cryptocurrencies have built-in assumptions about inflation and how to limit it. Eventually, cryptocurrencies will be exposed to pressures beyond their control, and a robust monetary design will be imperative to prevent things from going off the rails. \n",
    "\n",
    "In the episode of the [Odd Lots podcast on MMT with Stephanie Kelton](https://www.bloomberg.com/news/audio/2021-03-17/how-mmt-won-the-fiscal-policy-debate-podcast), much time is spent discussing inflation and its causes. Around minute 32, Tracy Alloway, asks Kelton to explain her views, and Kelton’s answer is basically, “It’s complicated.” In some ways this is less satisfactory than being able to point to variable X as the cause of inflation, but I think, in its favor, is that “it’s complicated” is a more accurate description of the world."
   ]
  }
 ],
 "metadata": {
  "kernelspec": {
   "display_name": "Python 3 (ipykernel)",
   "language": "python",
   "name": "python3"
  },
  "language_info": {
   "codemirror_mode": {
    "name": "ipython",
    "version": 3
   },
   "file_extension": ".py",
   "mimetype": "text/x-python",
   "name": "python",
   "nbconvert_exporter": "python",
   "pygments_lexer": "ipython3",
   "version": "3.9.6"
  }
 },
 "nbformat": 4,
 "nbformat_minor": 5
}
